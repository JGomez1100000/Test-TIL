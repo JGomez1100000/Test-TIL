{
 "cells": [
  {
   "cell_type": "markdown",
   "metadata": {},
   "source": [
    "Assignement\n",
    "\n",
    "Create and call a python function that : \n",
    "- stores a random integer A between 1 and 9\n",
    "- stores a random integer B between 1 and 9\n",
    "- multiplies A and B together as C\n",
    "- Prints A and C for every result until C = 4\n",
    "- If C = 4 , print ‘Success!’ and the results for A and B"
   ]
  },
  {
   "cell_type": "code",
   "execution_count": 78,
   "metadata": {},
   "outputs": [
    {
     "name": "stdout",
     "output_type": "stream",
     "text": [
      "a:1, c:7, d:1\n",
      "a:6, c:42, d:2\n",
      "a:1, c:2, d:3\n",
      "a:6, c:6, d:4\n",
      "a:3, c:18, d:5\n",
      "a:5, c:5, d:6\n",
      "a:8, c:8, d:7\n",
      "a:5, c:10, d:8\n",
      "a:1, c:6, d:9\n",
      "a:7, c:7, d:10\n",
      "a:3, c:21, d:11\n",
      "a:5, c:40, d:12\n",
      "a:6, c:12, d:13\n",
      "a:4, c:12, d:14\n",
      "a:1, c:7, d:15\n",
      "a:1, c:2, d:16\n",
      "a:7, c:14, d:17\n",
      "a:1, c:6, d:18\n",
      "a:3, c:15, d:19\n",
      "a:4, c:28, d:20\n",
      "a:8, c:40, d:21\n",
      "a:8, c:40, d:22\n",
      "a:5, c:5, d:23\n",
      "a:3, c:3, d:24\n",
      "a:8, c:48, d:25\n",
      "a:5, c:20, d:26\n",
      "a:4, c:12, d:27\n",
      "a:3, c:9, d:28\n",
      "a:6, c:36, d:29\n",
      "a:1, c:8, d:30\n",
      "a:7, c:42, d:31\n",
      "a:3, c:24, d:32\n",
      "a:6, c:48, d:33\n",
      "a:6, c:6, d:34\n",
      "a:1, c:6, d:35\n",
      "a:8, c:16, d:36\n",
      "a:1, c:8, d:37\n",
      "a:5, c:25, d:38\n",
      "a:2, c:16, d:39\n",
      "a:4, c:24, d:40\n",
      "a:4, c:32, d:41\n",
      "a:4, c:4, d:42\n",
      "Success! a: 4, b: 1\n"
     ]
    }
   ],
   "source": [
    "import numpy as np\n",
    "\n",
    "def multiply():\n",
    "    d=0 # Number of tries\n",
    "    while True: # Infinite loop until c==4\n",
    "        a=np.random.randint(1,9)\n",
    "        b=np.random.randint(1,9)\n",
    "        c=a*b\n",
    "        d+=1\n",
    "        print(f'a:{a}, c:{c}, d:{d}')\n",
    "        if c==4:\n",
    "            print(f'Success! a: {a}, b: {b}')\n",
    "            break\n",
    "\n",
    "\n",
    "multiply()\n"
   ]
  }
 ],
 "metadata": {
  "kernelspec": {
   "display_name": "Python 3",
   "language": "python",
   "name": "python3"
  },
  "language_info": {
   "codemirror_mode": {
    "name": "ipython",
    "version": 3
   },
   "file_extension": ".py",
   "mimetype": "text/x-python",
   "name": "python",
   "nbconvert_exporter": "python",
   "pygments_lexer": "ipython3",
   "version": "3.10.11"
  }
 },
 "nbformat": 4,
 "nbformat_minor": 2
}
